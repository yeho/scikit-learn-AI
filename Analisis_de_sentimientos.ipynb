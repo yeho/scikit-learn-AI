{
  "nbformat": 4,
  "nbformat_minor": 0,
  "metadata": {
    "colab": {
      "provenance": [],
      "authorship_tag": "ABX9TyP9KNEuItxJnjKWlZjMVHhU",
      "include_colab_link": true
    },
    "kernelspec": {
      "name": "python3",
      "display_name": "Python 3"
    },
    "language_info": {
      "name": "python"
    }
  },
  "cells": [
    {
      "cell_type": "markdown",
      "metadata": {
        "id": "view-in-github",
        "colab_type": "text"
      },
      "source": [
        "<a href=\"https://colab.research.google.com/github/yeho/scikit-learn-AI/blob/master/Analisis_de_sentimientos.ipynb\" target=\"_parent\"><img src=\"https://colab.research.google.com/assets/colab-badge.svg\" alt=\"Open In Colab\"/></a>"
      ]
    },
    {
      "cell_type": "markdown",
      "source": [
        "🧠 **Análisis de Sentimientos con el Dataset Sentiment140**\n",
        "\n",
        "Este notebook implementa un modelo de análisis de sentimientos utilizando el dataset Sentiment140, el cual contiene 1.6 millones de tweets etiquetados como positivos o negativos. Se utiliza un modelo sencillo de red neuronal construido con TensorFlow/Keras para clasificar textos cortos.\n",
        "\n",
        "⸻\n",
        "\n",
        "🔍 **Características:**\n",
        "\n",
        "*\tCarga y muestreo del dataset Sentiment140\n",
        "*\tPreprocesamiento del texto y tokenización\n",
        "*\tRelleno de secuencias (padding) y limitación del vocabulario\n",
        "*\tArquitectura simple de red neuronal:\n",
        "*\tCapa Embedding\n",
        "*\tGlobalAveragePooling\n",
        "*\tCapas Dense para clasificación\n",
        "*\tVisualización de métricas de precisión por época\n",
        "*\tPrueba de predicción con textos personalizados\n",
        "\n",
        "⸻\n",
        "\n",
        "📦 **Librerías utilizadas:**\n",
        "\n",
        "*\tpandas, numpy, matplotlib\n",
        "*\tscikit-learn\n",
        "*\ttensorflow.keras\n",
        "\n",
        "⸻\n",
        "\n",
        "▶️ **Cómo ejecutarlo en Google Colab**\n",
        "\n",
        "1.\tAbre el siguiente enlace: https://colab.research.google.com\n",
        "2.\tSube este notebook (.ipynb) desde tu computadora o cópialo a tu Google Drive.\n",
        "3.\tAsegúrate de tener el archivo training.1600000.processed.noemoticon.csv disponible:\n",
        "  *\tPuedes cargarlo desde tu Google Drive\n",
        "  *\tO subirlo manualmente a Colab desde tu equipo\n",
        "4.\tSi usas Google Drive, monta tu drive ejecutando:\n",
        "  \n",
        "```\n",
        "from google.colab import drive\n",
        "drive.mount('/content/drive')\n",
        "\n",
        "```\n",
        "5.\tAjusta la ruta del archivo CSV:\n",
        "\n",
        "```\n",
        "  df = pd.read_csv('/content/drive/MyDrive/ruta/a/training.1600000.processed.noemoticon.csv', encoding='latin-1', header=None)\n",
        "\n",
        "```\n",
        "\n",
        "⸻\n",
        "\n",
        "**Posibles mejoras futuras**\n",
        "*\t🔤 Aplicar limpieza avanzada de texto: eliminación de menciones, hashtags, emojis, URLs y stopwords.\n",
        "*\t📈 Incorporar técnicas de data augmentation para enriquecer el entrenamiento.\n",
        "*\t🧠 Usar modelos más sofisticados como LSTM, GRU o transformers (por ejemplo, BERT).\n",
        "*\t⚖️ Manejo de desbalance de clases (upsampling o técnicas de penalización).\n",
        "*\t📊 Evaluación más completa usando métricas como F1-score, matriz de confusión y curva ROC.\n",
        "*\t🌍 Añadir soporte para múltiples idiomas.\n",
        "*\t🧪 Desplegar el modelo como una API o aplicación web para prueba interactiva.\n"
      ],
      "metadata": {
        "id": "FJbg7_P-Pt6m"
      }
    },
    {
      "cell_type": "markdown",
      "source": [
        "Paso 1: Cargar librerías necesarias"
      ],
      "metadata": {
        "id": "S6lVm8ebxZaB"
      }
    },
    {
      "cell_type": "code",
      "source": [
        "import pandas as pd\n",
        "import numpy as np\n",
        "import matplotlib.pyplot as plt\n",
        "from sklearn.model_selection import train_test_split\n",
        "from tensorflow.keras.preprocessing.text import Tokenizer\n",
        "from tensorflow.keras.preprocessing.sequence import pad_sequences\n",
        "from tensorflow.keras.models import Sequential\n",
        "from tensorflow.keras.layers import Embedding, Dense, GlobalAveragePooling1D\n"
      ],
      "metadata": {
        "id": "mEJaVkkPxh9u"
      },
      "execution_count": 34,
      "outputs": []
    },
    {
      "cell_type": "markdown",
      "source": [
        "Paso 2: Cargar datos de ejemplo"
      ],
      "metadata": {
        "id": "Be_H48RSxg_L"
      }
    },
    {
      "cell_type": "code",
      "source": [
        "# 1. Cargar el dataset (ajusta la ruta al archivo CSV de Sentiment140)\n",
        "# Columnas: [target, ids, date, flag, user, text]\n",
        "# target: 0 = negativo, 4 = positivo\n",
        "\n",
        "df = pd.read_csv(\"training.1600000.processed.noemoticon.csv\",\n",
        "                 encoding='latin-1', header=None,\n",
        "                 names=[\"sentiment\", \"id\", \"date\", \"flag\", \"user\", \"text\"])\n",
        "\n",
        "# 2. Filtrar y limpiar\n",
        "df = df[['sentiment', 'text']]\n",
        "df['sentiment'] = df['sentiment'].replace({0: 0, 4: 1})  # Reetiquetar 4→1\n",
        "\n",
        "# Opcional: muestreo para agilizar entrenamiento\n",
        "df = df.sample(n=20000, random_state=42).reset_index(drop=True)\n"
      ],
      "metadata": {
        "id": "qArfE1hTxk0Q"
      },
      "execution_count": 35,
      "outputs": []
    },
    {
      "cell_type": "markdown",
      "source": [
        "Paso 3: Preprocesamiento del texto Tokenizamos el texto y lo convertimos en secuencias de enteros."
      ],
      "metadata": {
        "id": "JvlKH2Klxx6k"
      }
    },
    {
      "cell_type": "code",
      "source": [
        "\n",
        "# 3. Tokenización\n",
        "vocab_size = 10000\n",
        "max_length = 20\n",
        "tokenizer = Tokenizer(num_words=vocab_size, oov_token=\"<OOV>\")\n",
        "tokenizer.fit_on_texts(df['text'])\n",
        "sequences = tokenizer.texts_to_sequences(df['text'])\n",
        "padded = pad_sequences(sequences, maxlen=max_length, padding='post', truncating='post')\n"
      ],
      "metadata": {
        "id": "SJhw7GSgx1CQ"
      },
      "execution_count": 36,
      "outputs": []
    },
    {
      "cell_type": "markdown",
      "source": [
        "Paso 4: Crear la red neuronal"
      ],
      "metadata": {
        "id": "9yTI2Yu1x5Xn"
      }
    },
    {
      "cell_type": "code",
      "source": [
        "# 4. Dividir datos\n",
        "X_train, X_test, y_train, y_test = train_test_split(padded, df['sentiment'].values, test_size=0.2, random_state=42)\n",
        "\n",
        "# Definir modelo\n",
        "model = Sequential([\n",
        "    Embedding(input_dim=vocab_size, output_dim=16),\n",
        "    GlobalAveragePooling1D(),\n",
        "    Dense(16, activation='relu'),\n",
        "    Dense(1, activation='sigmoid')  # Salida binaria\n",
        "])\n",
        "\n",
        "model.compile(loss='binary_crossentropy', optimizer='adam', metrics=['accuracy'])\n",
        "model.summary()\n"
      ],
      "metadata": {
        "colab": {
          "base_uri": "https://localhost:8080/",
          "height": 281
        },
        "id": "w2Ckh_IqyFN9",
        "outputId": "449a1f3a-9842-46f1-fbb1-fa0df1b56354"
      },
      "execution_count": 37,
      "outputs": [
        {
          "output_type": "display_data",
          "data": {
            "text/plain": [
              "\u001b[1mModel: \"sequential_3\"\u001b[0m\n"
            ],
            "text/html": [
              "<pre style=\"white-space:pre;overflow-x:auto;line-height:normal;font-family:Menlo,'DejaVu Sans Mono',consolas,'Courier New',monospace\"><span style=\"font-weight: bold\">Model: \"sequential_3\"</span>\n",
              "</pre>\n"
            ]
          },
          "metadata": {}
        },
        {
          "output_type": "display_data",
          "data": {
            "text/plain": [
              "┏━━━━━━━━━━━━━━━━━━━━━━━━━━━━━━━━━┳━━━━━━━━━━━━━━━━━━━━━━━━┳━━━━━━━━━━━━━━━┓\n",
              "┃\u001b[1m \u001b[0m\u001b[1mLayer (type)                   \u001b[0m\u001b[1m \u001b[0m┃\u001b[1m \u001b[0m\u001b[1mOutput Shape          \u001b[0m\u001b[1m \u001b[0m┃\u001b[1m \u001b[0m\u001b[1m      Param #\u001b[0m\u001b[1m \u001b[0m┃\n",
              "┡━━━━━━━━━━━━━━━━━━━━━━━━━━━━━━━━━╇━━━━━━━━━━━━━━━━━━━━━━━━╇━━━━━━━━━━━━━━━┩\n",
              "│ embedding_3 (\u001b[38;5;33mEmbedding\u001b[0m)         │ ?                      │   \u001b[38;5;34m0\u001b[0m (unbuilt) │\n",
              "├─────────────────────────────────┼────────────────────────┼───────────────┤\n",
              "│ global_average_pooling1d_3      │ ?                      │             \u001b[38;5;34m0\u001b[0m │\n",
              "│ (\u001b[38;5;33mGlobalAveragePooling1D\u001b[0m)        │                        │               │\n",
              "├─────────────────────────────────┼────────────────────────┼───────────────┤\n",
              "│ dense_6 (\u001b[38;5;33mDense\u001b[0m)                 │ ?                      │   \u001b[38;5;34m0\u001b[0m (unbuilt) │\n",
              "├─────────────────────────────────┼────────────────────────┼───────────────┤\n",
              "│ dense_7 (\u001b[38;5;33mDense\u001b[0m)                 │ ?                      │   \u001b[38;5;34m0\u001b[0m (unbuilt) │\n",
              "└─────────────────────────────────┴────────────────────────┴───────────────┘\n"
            ],
            "text/html": [
              "<pre style=\"white-space:pre;overflow-x:auto;line-height:normal;font-family:Menlo,'DejaVu Sans Mono',consolas,'Courier New',monospace\">┏━━━━━━━━━━━━━━━━━━━━━━━━━━━━━━━━━┳━━━━━━━━━━━━━━━━━━━━━━━━┳━━━━━━━━━━━━━━━┓\n",
              "┃<span style=\"font-weight: bold\"> Layer (type)                    </span>┃<span style=\"font-weight: bold\"> Output Shape           </span>┃<span style=\"font-weight: bold\">       Param # </span>┃\n",
              "┡━━━━━━━━━━━━━━━━━━━━━━━━━━━━━━━━━╇━━━━━━━━━━━━━━━━━━━━━━━━╇━━━━━━━━━━━━━━━┩\n",
              "│ embedding_3 (<span style=\"color: #0087ff; text-decoration-color: #0087ff\">Embedding</span>)         │ ?                      │   <span style=\"color: #00af00; text-decoration-color: #00af00\">0</span> (unbuilt) │\n",
              "├─────────────────────────────────┼────────────────────────┼───────────────┤\n",
              "│ global_average_pooling1d_3      │ ?                      │             <span style=\"color: #00af00; text-decoration-color: #00af00\">0</span> │\n",
              "│ (<span style=\"color: #0087ff; text-decoration-color: #0087ff\">GlobalAveragePooling1D</span>)        │                        │               │\n",
              "├─────────────────────────────────┼────────────────────────┼───────────────┤\n",
              "│ dense_6 (<span style=\"color: #0087ff; text-decoration-color: #0087ff\">Dense</span>)                 │ ?                      │   <span style=\"color: #00af00; text-decoration-color: #00af00\">0</span> (unbuilt) │\n",
              "├─────────────────────────────────┼────────────────────────┼───────────────┤\n",
              "│ dense_7 (<span style=\"color: #0087ff; text-decoration-color: #0087ff\">Dense</span>)                 │ ?                      │   <span style=\"color: #00af00; text-decoration-color: #00af00\">0</span> (unbuilt) │\n",
              "└─────────────────────────────────┴────────────────────────┴───────────────┘\n",
              "</pre>\n"
            ]
          },
          "metadata": {}
        },
        {
          "output_type": "display_data",
          "data": {
            "text/plain": [
              "\u001b[1m Total params: \u001b[0m\u001b[38;5;34m0\u001b[0m (0.00 B)\n"
            ],
            "text/html": [
              "<pre style=\"white-space:pre;overflow-x:auto;line-height:normal;font-family:Menlo,'DejaVu Sans Mono',consolas,'Courier New',monospace\"><span style=\"font-weight: bold\"> Total params: </span><span style=\"color: #00af00; text-decoration-color: #00af00\">0</span> (0.00 B)\n",
              "</pre>\n"
            ]
          },
          "metadata": {}
        },
        {
          "output_type": "display_data",
          "data": {
            "text/plain": [
              "\u001b[1m Trainable params: \u001b[0m\u001b[38;5;34m0\u001b[0m (0.00 B)\n"
            ],
            "text/html": [
              "<pre style=\"white-space:pre;overflow-x:auto;line-height:normal;font-family:Menlo,'DejaVu Sans Mono',consolas,'Courier New',monospace\"><span style=\"font-weight: bold\"> Trainable params: </span><span style=\"color: #00af00; text-decoration-color: #00af00\">0</span> (0.00 B)\n",
              "</pre>\n"
            ]
          },
          "metadata": {}
        },
        {
          "output_type": "display_data",
          "data": {
            "text/plain": [
              "\u001b[1m Non-trainable params: \u001b[0m\u001b[38;5;34m0\u001b[0m (0.00 B)\n"
            ],
            "text/html": [
              "<pre style=\"white-space:pre;overflow-x:auto;line-height:normal;font-family:Menlo,'DejaVu Sans Mono',consolas,'Courier New',monospace\"><span style=\"font-weight: bold\"> Non-trainable params: </span><span style=\"color: #00af00; text-decoration-color: #00af00\">0</span> (0.00 B)\n",
              "</pre>\n"
            ]
          },
          "metadata": {}
        }
      ]
    },
    {
      "cell_type": "markdown",
      "source": [
        "Paso 5: Entrenar el modelo"
      ],
      "metadata": {
        "id": "5JRoKv7UyJjV"
      }
    },
    {
      "cell_type": "code",
      "source": [
        "\n",
        "# 5. Entrenamiento\n",
        "history = model.fit(X_train, y_train, epochs=3, validation_data=(X_test, y_test), verbose=1)\n"
      ],
      "metadata": {
        "colab": {
          "base_uri": "https://localhost:8080/"
        },
        "id": "4dc_z-EyyL1r",
        "outputId": "781520f0-e2df-4c54-dce3-8405720630c2"
      },
      "execution_count": 38,
      "outputs": [
        {
          "output_type": "stream",
          "name": "stdout",
          "text": [
            "Epoch 1/3\n",
            "\u001b[1m500/500\u001b[0m \u001b[32m━━━━━━━━━━━━━━━━━━━━\u001b[0m\u001b[37m\u001b[0m \u001b[1m4s\u001b[0m 4ms/step - accuracy: 0.5909 - loss: 0.6671 - val_accuracy: 0.7170 - val_loss: 0.5563\n",
            "Epoch 2/3\n",
            "\u001b[1m500/500\u001b[0m \u001b[32m━━━━━━━━━━━━━━━━━━━━\u001b[0m\u001b[37m\u001b[0m \u001b[1m3s\u001b[0m 5ms/step - accuracy: 0.7777 - loss: 0.4931 - val_accuracy: 0.7445 - val_loss: 0.5228\n",
            "Epoch 3/3\n",
            "\u001b[1m500/500\u001b[0m \u001b[32m━━━━━━━━━━━━━━━━━━━━\u001b[0m\u001b[37m\u001b[0m \u001b[1m5s\u001b[0m 4ms/step - accuracy: 0.8200 - loss: 0.4107 - val_accuracy: 0.7483 - val_loss: 0.5333\n"
          ]
        }
      ]
    },
    {
      "cell_type": "markdown",
      "source": [
        "Paso 6: Evaluar el modelo y probar con textos nuevos"
      ],
      "metadata": {
        "id": "y8owUPwiyOT_"
      }
    },
    {
      "cell_type": "code",
      "source": [
        "# 6. Evaluación\n",
        "loss, accuracy = model.evaluate(X_test, y_test)\n",
        "print(f\"Precisión: {accuracy:.2%}\")\n",
        "\n",
        "# Clasificación de nuevos textos\n",
        "texts = [\"I am very disappointed\", \"I absolutely love it\", \"I believe you can do it — can you help me with this?\", \"Creo que puedes hacerlo. ¿Puedes ayudarme con esto?\"]\n",
        "seqs = tokenizer.texts_to_sequences(texts)\n",
        "padded_seqs = pad_sequences(seqs, maxlen=max_length, padding='post')\n",
        "predictions = model.predict(padded_seqs)\n",
        "\n",
        "for i, text in enumerate(texts):\n",
        "    sentiment = \"Positivo 😊\" if predictions[i] > 0.5 else \"Negativo 😠\"\n",
        "    print(f\"Texto: '{text}' → {sentiment} - {predictions[i][0]:.4f}\")\n"
      ],
      "metadata": {
        "colab": {
          "base_uri": "https://localhost:8080/"
        },
        "id": "E9UqzG6JyTEd",
        "outputId": "f4bd769c-da18-4476-bcfc-3fb9104f3cca"
      },
      "execution_count": 39,
      "outputs": [
        {
          "output_type": "stream",
          "name": "stdout",
          "text": [
            "\u001b[1m125/125\u001b[0m \u001b[32m━━━━━━━━━━━━━━━━━━━━\u001b[0m\u001b[37m\u001b[0m \u001b[1m0s\u001b[0m 2ms/step - accuracy: 0.7473 - loss: 0.5208\n",
            "Precisión: 74.83%\n",
            "\u001b[1m1/1\u001b[0m \u001b[32m━━━━━━━━━━━━━━━━━━━━\u001b[0m\u001b[37m\u001b[0m \u001b[1m0s\u001b[0m 79ms/step\n",
            "Texto: 'I am very disappointed' → Negativo 😠 - 0.2216\n",
            "Texto: 'I absolutely love it' → Positivo 😊 - 0.8458\n",
            "Texto: 'I believe you can do it — can you help me with this?' → Positivo 😊 - 0.7421\n",
            "Texto: 'Creo que puedes hacerlo. ¿Puedes ayudarme con esto?' → Negativo 😠 - 0.4043\n"
          ]
        }
      ]
    },
    {
      "cell_type": "markdown",
      "source": [
        "Visualización de entrenamiento"
      ],
      "metadata": {
        "id": "NE1c0lpCyZw2"
      }
    },
    {
      "cell_type": "code",
      "execution_count": 40,
      "metadata": {
        "colab": {
          "base_uri": "https://localhost:8080/",
          "height": 474
        },
        "id": "wmbhrDl0vacL",
        "outputId": "01b448c4-d427-4158-c5f5-1375e6453000"
      },
      "outputs": [
        {
          "output_type": "display_data",
          "data": {
            "text/plain": [
              "<Figure size 640x480 with 1 Axes>"
            ],
            "image/png": "[encoded data removed]"
          },
          "metadata": {}
        }
      ],
      "source": [
        "# 7. Visualización\n",
        "plt.plot(history.history['accuracy'], label='Entrenamiento')\n",
        "plt.plot(history.history['val_accuracy'], label='Validación')\n",
        "plt.title('Precisión durante el entrenamiento')\n",
        "plt.xlabel('Épocas')\n",
        "plt.ylabel('Precisión')\n",
        "plt.legend()\n",
        "plt.show()"
      ]
    }
  ]
}