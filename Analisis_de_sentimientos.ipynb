{
  "nbformat": 4,
  "nbformat_minor": 0,
  "metadata": {
    "colab": {
      "provenance": [],
      "authorship_tag": "ABX9TyPyit3iq7PBLDZ8aSvGVTDv",
      "include_colab_link": true
    },
    "kernelspec": {
      "name": "python3",
      "display_name": "Python 3"
    },
    "language_info": {
      "name": "python"
    }
  },
  "cells": [
    {
      "cell_type": "markdown",
      "metadata": {
        "id": "view-in-github",
        "colab_type": "text"
      },
      "source": [
        "<a href=\"https://colab.research.google.com/github/yeho/scikit-learn-AI/blob/master/Analisis_de_sentimientos.ipynb\" target=\"_parent\"><img src=\"https://colab.research.google.com/assets/colab-badge.svg\" alt=\"Open In Colab\"/></a>"
      ]
    },
    {
      "cell_type": "markdown",
      "source": [
        "🧠 **Análisis de Sentimientos con el Dataset Sentiment140**\n",
        "\n",
        "Este notebook implementa un modelo de análisis de sentimientos utilizando el dataset Sentiment140, el cual contiene 1.6 millones de tweets etiquetados como positivos o negativos. Se utiliza un modelo sencillo de red neuronal construido con TensorFlow/Keras para clasificar textos cortos.\n",
        "\n",
        "⸻\n",
        "\n",
        "🔍 **Características:**\n",
        "\n",
        "*\tCarga y muestreo del dataset Sentiment140\n",
        "*\tPreprocesamiento del texto y tokenización\n",
        "*\tRelleno de secuencias (padding) y limitación del vocabulario\n",
        "*\tArquitectura simple de red neuronal:\n",
        "*\tCapa Embedding\n",
        "*\tGlobalAveragePooling\n",
        "*\tCapas Dense para clasificación\n",
        "*\tVisualización de métricas de precisión por época\n",
        "*\tPrueba de predicción con textos personalizados\n",
        "\n",
        "⸻\n",
        "\n",
        "📦 **Librerías utilizadas:**\n",
        "\n",
        "*\tpandas, numpy, matplotlib\n",
        "*\tscikit-learn\n",
        "*\ttensorflow.keras\n",
        "\n",
        "⸻\n",
        "\n",
        "▶️ **Cómo ejecutarlo en Google Colab**\n",
        "\n",
        "1.\tAbre el siguiente enlace: https://colab.research.google.com\n",
        "2.\tSube este notebook (.ipynb) desde tu computadora o cópialo a tu Google Drive.\n",
        "3.\tAsegúrate de tener el archivo training.1600000.processed.noemoticon.csv disponible:\n",
        "  *\tPuedes cargarlo desde tu Google Drive\n",
        "  *\tO subirlo manualmente a Colab desde tu equipo\n",
        "4.\tSi usas Google Drive, monta tu drive ejecutando:\n",
        "  \n",
        "```\n",
        "from google.colab import drive\n",
        "drive.mount('/content/drive')\n",
        "\n",
        "```\n",
        "5.\tAjusta la ruta del archivo CSV:\n",
        "\n",
        "```\n",
        "  df = pd.read_csv('/content/drive/MyDrive/ruta/a/training.1600000.processed.noemoticon.csv', encoding='latin-1', header=None)\n",
        "\n",
        "```\n",
        "\n",
        "⸻\n",
        "\n",
        "**Posibles mejoras futuras**\n",
        "*\t🔤 Aplicar limpieza avanzada de texto: eliminación de menciones, hashtags, emojis, URLs y stopwords.\n",
        "*\t📈 Incorporar técnicas de data augmentation para enriquecer el entrenamiento.\n",
        "*\t🧠 Usar modelos más sofisticados como LSTM, GRU o transformers (por ejemplo, BERT).\n",
        "*\t⚖️ Manejo de desbalance de clases (upsampling o técnicas de penalización).\n",
        "*\t📊 Evaluación más completa usando métricas como F1-score, matriz de confusión y curva ROC.\n",
        "*\t🌍 Añadir soporte para múltiples idiomas.\n",
        "*\t🧪 Desplegar el modelo como una API o aplicación web para prueba interactiva.\n"
      ],
      "metadata": {
        "id": "FJbg7_P-Pt6m"
      }
    },
    {
      "cell_type": "markdown",
      "source": [
        "Paso 1: Cargar librerías necesarias"
      ],
      "metadata": {
        "id": "S6lVm8ebxZaB"
      }
    },
    {
      "cell_type": "code",
      "source": [
        "import pandas as pd\n",
        "import numpy as np\n",
        "import matplotlib.pyplot as plt\n",
        "from sklearn.model_selection import train_test_split\n",
        "from tensorflow.keras.preprocessing.text import Tokenizer\n",
        "from tensorflow.keras.preprocessing.sequence import pad_sequences\n",
        "from tensorflow.keras.models import Sequential\n",
        "from tensorflow.keras.layers import Embedding, Dense, GlobalAveragePooling1D\n"
      ],
      "metadata": {
        "id": "mEJaVkkPxh9u"
      },
      "execution_count": 40,
      "outputs": []
    },
    {
      "cell_type": "markdown",
      "source": [
        "Paso 2: Cargar datos de ejemplo"
      ],
      "metadata": {
        "id": "Be_H48RSxg_L"
      }
    },
    {
      "cell_type": "code",
      "source": [
        "# 1. Cargar el dataset (ajusta la ruta al archivo CSV de Sentiment140)\n",
        "# Columnas: [target, ids, date, flag, user, text]\n",
        "# target: 0 = negativo, 4 = positivo\n",
        "\n",
        "df = pd.read_csv(\"training.1600000.processed.noemoticon.csv\",\n",
        "                 encoding='latin-1', header=None,\n",
        "                 names=[\"sentiment\", \"id\", \"date\", \"flag\", \"user\", \"text\"])\n",
        "\n",
        "# 2. Filtrar y limpiar\n",
        "df = df[['sentiment', 'text']]\n",
        "df['sentiment'] = df['sentiment'].replace({0: 0, 4: 1})  # Reetiquetar 4→1\n",
        "\n",
        "# Opcional: muestreo para agilizar entrenamiento\n",
        "df = df.sample(n=20000, random_state=42).reset_index(drop=True)\n"
      ],
      "metadata": {
        "id": "qArfE1hTxk0Q"
      },
      "execution_count": 41,
      "outputs": []
    },
    {
      "cell_type": "markdown",
      "source": [
        "Paso 3: Preprocesamiento del texto Tokenizamos el texto y lo convertimos en secuencias de enteros."
      ],
      "metadata": {
        "id": "JvlKH2Klxx6k"
      }
    },
    {
      "cell_type": "code",
      "source": [
        "\n",
        "# 3. Tokenización\n",
        "vocab_size = 10000\n",
        "max_length = 20\n",
        "tokenizer = Tokenizer(num_words=vocab_size, oov_token=\"<OOV>\")\n",
        "tokenizer.fit_on_texts(df['text'])\n",
        "sequences = tokenizer.texts_to_sequences(df['text'])\n",
        "padded = pad_sequences(sequences, maxlen=max_length, padding='post', truncating='post')\n"
      ],
      "metadata": {
        "id": "SJhw7GSgx1CQ"
      },
      "execution_count": 42,
      "outputs": []
    },
    {
      "cell_type": "markdown",
      "source": [
        "Paso 4: Crear la red neuronal"
      ],
      "metadata": {
        "id": "9yTI2Yu1x5Xn"
      }
    },
    {
      "cell_type": "code",
      "source": [
        "# 4. Dividir datos\n",
        "X_train, X_test, y_train, y_test = train_test_split(padded, df['sentiment'].values, test_size=0.2, random_state=42)\n",
        "\n",
        "# Definir modelo\n",
        "model = Sequential([\n",
        "    Embedding(input_dim=vocab_size, output_dim=16),\n",
        "    GlobalAveragePooling1D(),\n",
        "    Dense(16, activation='relu'),\n",
        "    Dense(1, activation='sigmoid')  # Salida binaria\n",
        "])\n",
        "\n",
        "\n",
        "model.compile(loss='binary_crossentropy', optimizer='adam', metrics=['accuracy'])\n",
        "# Construir el modelo manualmente con la forma de entrada\n",
        "model.build(input_shape=(None, max_length))\n",
        "model.summary()\n",
        "\n"
      ],
      "metadata": {
        "colab": {
          "base_uri": "https://localhost:8080/",
          "height": 281
        },
        "id": "w2Ckh_IqyFN9",
        "outputId": "02929dff-273f-4c9a-d474-cb5a25accb26"
      },
      "execution_count": 43,
      "outputs": [
        {
          "output_type": "display_data",
          "data": {
            "text/plain": [
              "\u001b[1mModel: \"sequential_9\"\u001b[0m\n"
            ],
            "text/html": [
              "<pre style=\"white-space:pre;overflow-x:auto;line-height:normal;font-family:Menlo,'DejaVu Sans Mono',consolas,'Courier New',monospace\"><span style=\"font-weight: bold\">Model: \"sequential_9\"</span>\n",
              "</pre>\n"
            ]
          },
          "metadata": {}
        },
        {
          "output_type": "display_data",
          "data": {
            "text/plain": [
              "┏━━━━━━━━━━━━━━━━━━━━━━━━━━━━━━━━━┳━━━━━━━━━━━━━━━━━━━━━━━━┳━━━━━━━━━━━━━━━┓\n",
              "┃\u001b[1m \u001b[0m\u001b[1mLayer (type)                   \u001b[0m\u001b[1m \u001b[0m┃\u001b[1m \u001b[0m\u001b[1mOutput Shape          \u001b[0m\u001b[1m \u001b[0m┃\u001b[1m \u001b[0m\u001b[1m      Param #\u001b[0m\u001b[1m \u001b[0m┃\n",
              "┡━━━━━━━━━━━━━━━━━━━━━━━━━━━━━━━━━╇━━━━━━━━━━━━━━━━━━━━━━━━╇━━━━━━━━━━━━━━━┩\n",
              "│ embedding_9 (\u001b[38;5;33mEmbedding\u001b[0m)         │ (\u001b[38;5;45mNone\u001b[0m, \u001b[38;5;34m20\u001b[0m, \u001b[38;5;34m16\u001b[0m)         │       \u001b[38;5;34m160,000\u001b[0m │\n",
              "├─────────────────────────────────┼────────────────────────┼───────────────┤\n",
              "│ global_average_pooling1d_9      │ (\u001b[38;5;45mNone\u001b[0m, \u001b[38;5;34m16\u001b[0m)             │             \u001b[38;5;34m0\u001b[0m │\n",
              "│ (\u001b[38;5;33mGlobalAveragePooling1D\u001b[0m)        │                        │               │\n",
              "├─────────────────────────────────┼────────────────────────┼───────────────┤\n",
              "│ dense_18 (\u001b[38;5;33mDense\u001b[0m)                │ (\u001b[38;5;45mNone\u001b[0m, \u001b[38;5;34m16\u001b[0m)             │           \u001b[38;5;34m272\u001b[0m │\n",
              "├─────────────────────────────────┼────────────────────────┼───────────────┤\n",
              "│ dense_19 (\u001b[38;5;33mDense\u001b[0m)                │ (\u001b[38;5;45mNone\u001b[0m, \u001b[38;5;34m1\u001b[0m)              │            \u001b[38;5;34m17\u001b[0m │\n",
              "└─────────────────────────────────┴────────────────────────┴───────────────┘\n"
            ],
            "text/html": [
              "<pre style=\"white-space:pre;overflow-x:auto;line-height:normal;font-family:Menlo,'DejaVu Sans Mono',consolas,'Courier New',monospace\">┏━━━━━━━━━━━━━━━━━━━━━━━━━━━━━━━━━┳━━━━━━━━━━━━━━━━━━━━━━━━┳━━━━━━━━━━━━━━━┓\n",
              "┃<span style=\"font-weight: bold\"> Layer (type)                    </span>┃<span style=\"font-weight: bold\"> Output Shape           </span>┃<span style=\"font-weight: bold\">       Param # </span>┃\n",
              "┡━━━━━━━━━━━━━━━━━━━━━━━━━━━━━━━━━╇━━━━━━━━━━━━━━━━━━━━━━━━╇━━━━━━━━━━━━━━━┩\n",
              "│ embedding_9 (<span style=\"color: #0087ff; text-decoration-color: #0087ff\">Embedding</span>)         │ (<span style=\"color: #00d7ff; text-decoration-color: #00d7ff\">None</span>, <span style=\"color: #00af00; text-decoration-color: #00af00\">20</span>, <span style=\"color: #00af00; text-decoration-color: #00af00\">16</span>)         │       <span style=\"color: #00af00; text-decoration-color: #00af00\">160,000</span> │\n",
              "├─────────────────────────────────┼────────────────────────┼───────────────┤\n",
              "│ global_average_pooling1d_9      │ (<span style=\"color: #00d7ff; text-decoration-color: #00d7ff\">None</span>, <span style=\"color: #00af00; text-decoration-color: #00af00\">16</span>)             │             <span style=\"color: #00af00; text-decoration-color: #00af00\">0</span> │\n",
              "│ (<span style=\"color: #0087ff; text-decoration-color: #0087ff\">GlobalAveragePooling1D</span>)        │                        │               │\n",
              "├─────────────────────────────────┼────────────────────────┼───────────────┤\n",
              "│ dense_18 (<span style=\"color: #0087ff; text-decoration-color: #0087ff\">Dense</span>)                │ (<span style=\"color: #00d7ff; text-decoration-color: #00d7ff\">None</span>, <span style=\"color: #00af00; text-decoration-color: #00af00\">16</span>)             │           <span style=\"color: #00af00; text-decoration-color: #00af00\">272</span> │\n",
              "├─────────────────────────────────┼────────────────────────┼───────────────┤\n",
              "│ dense_19 (<span style=\"color: #0087ff; text-decoration-color: #0087ff\">Dense</span>)                │ (<span style=\"color: #00d7ff; text-decoration-color: #00d7ff\">None</span>, <span style=\"color: #00af00; text-decoration-color: #00af00\">1</span>)              │            <span style=\"color: #00af00; text-decoration-color: #00af00\">17</span> │\n",
              "└─────────────────────────────────┴────────────────────────┴───────────────┘\n",
              "</pre>\n"
            ]
          },
          "metadata": {}
        },
        {
          "output_type": "display_data",
          "data": {
            "text/plain": [
              "\u001b[1m Total params: \u001b[0m\u001b[38;5;34m160,289\u001b[0m (626.13 KB)\n"
            ],
            "text/html": [
              "<pre style=\"white-space:pre;overflow-x:auto;line-height:normal;font-family:Menlo,'DejaVu Sans Mono',consolas,'Courier New',monospace\"><span style=\"font-weight: bold\"> Total params: </span><span style=\"color: #00af00; text-decoration-color: #00af00\">160,289</span> (626.13 KB)\n",
              "</pre>\n"
            ]
          },
          "metadata": {}
        },
        {
          "output_type": "display_data",
          "data": {
            "text/plain": [
              "\u001b[1m Trainable params: \u001b[0m\u001b[38;5;34m160,289\u001b[0m (626.13 KB)\n"
            ],
            "text/html": [
              "<pre style=\"white-space:pre;overflow-x:auto;line-height:normal;font-family:Menlo,'DejaVu Sans Mono',consolas,'Courier New',monospace\"><span style=\"font-weight: bold\"> Trainable params: </span><span style=\"color: #00af00; text-decoration-color: #00af00\">160,289</span> (626.13 KB)\n",
              "</pre>\n"
            ]
          },
          "metadata": {}
        },
        {
          "output_type": "display_data",
          "data": {
            "text/plain": [
              "\u001b[1m Non-trainable params: \u001b[0m\u001b[38;5;34m0\u001b[0m (0.00 B)\n"
            ],
            "text/html": [
              "<pre style=\"white-space:pre;overflow-x:auto;line-height:normal;font-family:Menlo,'DejaVu Sans Mono',consolas,'Courier New',monospace\"><span style=\"font-weight: bold\"> Non-trainable params: </span><span style=\"color: #00af00; text-decoration-color: #00af00\">0</span> (0.00 B)\n",
              "</pre>\n"
            ]
          },
          "metadata": {}
        }
      ]
    },
    {
      "cell_type": "markdown",
      "source": [
        "Paso 5: Entrenar el modelo"
      ],
      "metadata": {
        "id": "5JRoKv7UyJjV"
      }
    },
    {
      "cell_type": "code",
      "source": [
        "\n",
        "# 5. Entrenamiento\n",
        "history = model.fit(X_train, y_train, epochs=3, validation_data=(X_test, y_test), verbose=1)\n"
      ],
      "metadata": {
        "colab": {
          "base_uri": "https://localhost:8080/"
        },
        "id": "4dc_z-EyyL1r",
        "outputId": "a520e44a-ac0e-49a0-aacd-ac594333e1b9"
      },
      "execution_count": 44,
      "outputs": [
        {
          "output_type": "stream",
          "name": "stdout",
          "text": [
            "Epoch 1/3\n",
            "\u001b[1m500/500\u001b[0m \u001b[32m━━━━━━━━━━━━━━━━━━━━\u001b[0m\u001b[37m\u001b[0m \u001b[1m3s\u001b[0m 4ms/step - accuracy: 0.5947 - loss: 0.6721 - val_accuracy: 0.7293 - val_loss: 0.5558\n",
            "Epoch 2/3\n",
            "\u001b[1m500/500\u001b[0m \u001b[32m━━━━━━━━━━━━━━━━━━━━\u001b[0m\u001b[37m\u001b[0m \u001b[1m2s\u001b[0m 4ms/step - accuracy: 0.7688 - loss: 0.5031 - val_accuracy: 0.7408 - val_loss: 0.5239\n",
            "Epoch 3/3\n",
            "\u001b[1m500/500\u001b[0m \u001b[32m━━━━━━━━━━━━━━━━━━━━\u001b[0m\u001b[37m\u001b[0m \u001b[1m2s\u001b[0m 4ms/step - accuracy: 0.8145 - loss: 0.4222 - val_accuracy: 0.7310 - val_loss: 0.5489\n"
          ]
        }
      ]
    },
    {
      "cell_type": "markdown",
      "source": [
        "Paso 6: Evaluar el modelo y probar con textos nuevos"
      ],
      "metadata": {
        "id": "y8owUPwiyOT_"
      }
    },
    {
      "cell_type": "code",
      "source": [
        "# 6. Evaluación\n",
        "loss, accuracy = model.evaluate(X_test, y_test)\n",
        "print(f\"Precisión: {accuracy:.2%}\")\n",
        "\n",
        "# Clasificación de nuevos textos\n",
        "texts = [\"I am very disappointed\", \"I absolutely love it\", \"I believe you can do it — can you help me with this?\", \"stop talking nonsense and say a normal sentence\", \"wash the dishes\"]\n",
        "seqs = tokenizer.texts_to_sequences(texts)\n",
        "padded_seqs = pad_sequences(seqs, maxlen=max_length, padding='post')\n",
        "predictions = model.predict(padded_seqs)\n",
        "\n",
        "for i, text in enumerate(texts):\n",
        "    sentiment = \"Positivo 😊\" if predictions[i] > 0.5 else \"Negativo 😠\"\n",
        "    print(f\"Texto: '{text}' → {sentiment} - {predictions[i][0]:.4f}\")\n"
      ],
      "metadata": {
        "colab": {
          "base_uri": "https://localhost:8080/"
        },
        "id": "E9UqzG6JyTEd",
        "outputId": "bc665e22-4ffb-4e2b-e7a0-fc8e91138548"
      },
      "execution_count": 45,
      "outputs": [
        {
          "output_type": "stream",
          "name": "stdout",
          "text": [
            "\u001b[1m125/125\u001b[0m \u001b[32m━━━━━━━━━━━━━━━━━━━━\u001b[0m\u001b[37m\u001b[0m \u001b[1m0s\u001b[0m 2ms/step - accuracy: 0.7356 - loss: 0.5369\n",
            "Precisión: 73.10%\n"
          ]
        },
        {
          "output_type": "stream",
          "name": "stderr",
          "text": [
            "WARNING:tensorflow:6 out of the last 6 calls to <function TensorFlowTrainer.make_predict_function.<locals>.one_step_on_data_distributed at 0x782fad1eaca0> triggered tf.function retracing. Tracing is expensive and the excessive number of tracings could be due to (1) creating @tf.function repeatedly in a loop, (2) passing tensors with different shapes, (3) passing Python objects instead of tensors. For (1), please define your @tf.function outside of the loop. For (2), @tf.function has reduce_retracing=True option that can avoid unnecessary retracing. For (3), please refer to https://www.tensorflow.org/guide/function#controlling_retracing and https://www.tensorflow.org/api_docs/python/tf/function for  more details.\n"
          ]
        },
        {
          "output_type": "stream",
          "name": "stdout",
          "text": [
            "\u001b[1m1/1\u001b[0m \u001b[32m━━━━━━━━━━━━━━━━━━━━\u001b[0m\u001b[37m\u001b[0m \u001b[1m0s\u001b[0m 126ms/step\n",
            "Texto: 'I am very disappointed' → Negativo 😠 - 0.4350\n",
            "Texto: 'I absolutely love it' → Positivo 😊 - 0.9383\n",
            "Texto: 'I believe you can do it — can you help me with this?' → Positivo 😊 - 0.8500\n",
            "Texto: 'stop talking nonsense and say a normal sentence' → Positivo 😊 - 0.8567\n",
            "Texto: 'wash the dishes' → Positivo 😊 - 0.8154\n"
          ]
        }
      ]
    },
    {
      "cell_type": "markdown",
      "source": [
        "Visualización de entrenamiento"
      ],
      "metadata": {
        "id": "NE1c0lpCyZw2"
      }
    },
    {
      "cell_type": "code",
      "execution_count": 46,
      "metadata": {
        "colab": {
          "base_uri": "https://localhost:8080/",
          "height": 474
        },
        "id": "wmbhrDl0vacL",
        "outputId": "647dfc3d-0df5-4294-fc59-4bf9459d8ff2"
      },
      "outputs": [
        {
          "output_type": "display_data",
          "data": {
            "text/plain": [
              "<Figure size 640x480 with 1 Axes>"
            ],
            "image/png": "[encoded data removed]"
          },
          "metadata": {}
        }
      ],
      "source": [
        "# 7. Visualización\n",
        "plt.plot(history.history['accuracy'], label='Entrenamiento')\n",
        "plt.plot(history.history['val_accuracy'], label='Validación')\n",
        "plt.title('Precisión durante el entrenamiento')\n",
        "plt.xlabel('Épocas')\n",
        "plt.ylabel('Precisión')\n",
        "plt.legend()\n",
        "plt.show()"
      ]
    }
  ]
}