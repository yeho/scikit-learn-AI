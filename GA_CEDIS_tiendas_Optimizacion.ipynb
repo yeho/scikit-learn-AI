{
  "cells": [
    {
      "cell_type": "markdown",
      "metadata": {
        "id": "view-in-github",
        "colab_type": "text"
      },
      "source": [
        "<a href=\"https://colab.research.google.com/github/yeho/scikit-learn-AI/blob/master/GA_CEDIS_tiendas_Optimizacion.ipynb\" target=\"_parent\"><img src=\"https://colab.research.google.com/assets/colab-badge.svg\" alt=\"Open In Colab\"/></a>"
      ]
    },
    {
      "cell_type": "markdown",
      "metadata": {
        "id": "KP7lrcSh7Qo7"
      },
      "source": [
        "# 🧬 Algoritmo Genético para Optimización de Rutas de Entrega Semanal\n",
        "\n",
        "Este notebook implementa un algoritmo genético simple para planificar entregas semanales desde un CEDIS a tiendas con frecuencias fijas usando datos sintéticos."
      ]
    },
    {
      "cell_type": "code",
      "execution_count": null,
      "metadata": {
        "id": "z4ehXNqU7Qo8"
      },
      "outputs": [],
      "source": [
        "# Configuración inicial\n",
        "import random\n",
        "from collections import defaultdict\n",
        "\n",
        "DIAS_SEMANA = [\"Lunes\", \"Martes\", \"Miércoles\", \"Jueves\", \"Viernes\", \"Sábado\", \"Domingo\"]\n",
        "TIENDAS = {\n",
        "    \"T1\": {\"frecuencia\": 2, \"demanda\": 10},\n",
        "    \"T2\": {\"frecuencia\": 1, \"demanda\": 15},\n",
        "    \"T3\": {\"frecuencia\": 2, \"demanda\": 5},\n",
        "    \"T4\": {\"frecuencia\": 1, \"demanda\": 8},\n",
        "    \"T5\": {\"frecuencia\": 2, \"demanda\": 7},\n",
        "}\n",
        "VEHICULO_CAPACIDAD = 30\n",
        "NUM_GENERACIONES = 100\n",
        "POBLACION_TAM = 30\n",
        "PROB_MUTACION = 0.2"
      ]
    },
    {
      "cell_type": "code",
      "execution_count": null,
      "metadata": {
        "id": "Rsu_X02o7Qo-"
      },
      "outputs": [],
      "source": [
        "def generar_individuo():\n",
        "    visitas = []\n",
        "    for tienda, info in TIENDAS.items():\n",
        "        for _ in range(info[\"frecuencia\"]):\n",
        "            dia = random.choice(DIAS_SEMANA)\n",
        "            visitas.append((tienda, dia))\n",
        "    random.shuffle(visitas)\n",
        "    return visitas\n",
        "\n",
        "def crear_poblacion():\n",
        "    return [generar_individuo() for _ in range(POBLACION_TAM)]\n",
        "\n",
        "def fitness(individuo):\n",
        "    rutas_por_dia = defaultdict(list)\n",
        "    penalizacion = 0\n",
        "    for tienda, dia in individuo:\n",
        "        rutas_por_dia[dia].append(tienda)\n",
        "    for dia, visitas in rutas_por_dia.items():\n",
        "        carga = sum(TIENDAS[t][\"demanda\"] for t in visitas)\n",
        "        if carga > VEHICULO_CAPACIDAD:\n",
        "            penalizacion += (carga - VEHICULO_CAPACIDAD) * 10\n",
        "    visitas_por_tienda = defaultdict(int)\n",
        "    for tienda, _ in individuo:\n",
        "        visitas_por_tienda[tienda] += 1\n",
        "    for tienda, info in TIENDAS.items():\n",
        "        faltan = info[\"frecuencia\"] - visitas_por_tienda[tienda]\n",
        "        if faltan > 0:\n",
        "            penalizacion += faltan * 50\n",
        "    return 1000 - penalizacion"
      ]
    },
    {
      "cell_type": "code",
      "execution_count": null,
      "metadata": {
        "id": "dGq3q_Hf7Qo-"
      },
      "outputs": [],
      "source": [
        "def seleccion(poblacion):\n",
        "    return sorted(poblacion, key=fitness, reverse=True)[:2]\n",
        "\n",
        "def cruzamiento(p1, p2):\n",
        "    punto = random.randint(1, len(p1) - 1)\n",
        "    hijo = p1[:punto] + p2[punto:]\n",
        "    return reparar_hijo(hijo)\n",
        "\n",
        "def reparar_hijo(hijo):\n",
        "    conteo_actual = defaultdict(int)\n",
        "    for tienda, _ in hijo:\n",
        "        conteo_actual[tienda] += 1\n",
        "    for tienda, info in TIENDAS.items():\n",
        "        dif = conteo_actual[tienda] - info[\"frecuencia\"]\n",
        "        if dif > 0:\n",
        "            for i in reversed(range(len(hijo))):\n",
        "                if hijo[i][0] == tienda and dif > 0:\n",
        "                    hijo.pop(i)\n",
        "                    dif -= 1\n",
        "        elif dif < 0:\n",
        "            for _ in range(abs(dif)):\n",
        "                dia = random.choice(DIAS_SEMANA)\n",
        "                hijo.append((tienda, dia))\n",
        "    random.shuffle(hijo)\n",
        "    return hijo\n",
        "\n",
        "def mutacion(individuo):\n",
        "    i = random.randint(0, len(individuo) - 1)\n",
        "    tienda, _ = individuo[i]\n",
        "    nuevo_dia = random.choice(DIAS_SEMANA)\n",
        "    individuo[i] = (tienda, nuevo_dia)\n",
        "    return individuo"
      ]
    },
    {
      "cell_type": "code",
      "execution_count": null,
      "metadata": {
        "id": "ld6kiAWr7Qo-"
      },
      "outputs": [],
      "source": [
        "def algoritmo_genetico():\n",
        "    poblacion = crear_poblacion()\n",
        "    mejor = max(poblacion, key=fitness)\n",
        "    for _ in range(NUM_GENERACIONES):\n",
        "        nueva_poblacion = []\n",
        "        elite = seleccion(poblacion)\n",
        "        nueva_poblacion.extend(elite)\n",
        "        while len(nueva_poblacion) < POBLACION_TAM:\n",
        "            p1, p2 = random.sample(elite, 2)\n",
        "            hijo = cruzamiento(p1, p2)\n",
        "            if random.random() < PROB_MUTACION:\n",
        "                hijo = mutacion(hijo)\n",
        "            nueva_poblacion.append(hijo)\n",
        "        poblacion = nueva_poblacion\n",
        "        mejor_candidato = max(poblacion, key=fitness)\n",
        "        if fitness(mejor_candidato) > fitness(mejor):\n",
        "            mejor = mejor_candidato\n",
        "    return mejor"
      ]
    },
    {
      "cell_type": "code",
      "execution_count": null,
      "metadata": {
        "colab": {
          "base_uri": "https://localhost:8080/"
        },
        "id": "TiXtfrjw7Qo_",
        "outputId": "a34540be-b755-44ec-c32b-df94893ba7d0"
      },
      "outputs": [
        {
          "output_type": "stream",
          "name": "stdout",
          "text": [
            "\n",
            "📦 Mejor planificación semanal encontrada:\n",
            "- T5 se visita el Lunes\n",
            "- T4 se visita el Miércoles\n",
            "- T2 se visita el Jueves\n",
            "- T1 se visita el Viernes\n",
            "- T3 se visita el Viernes\n",
            "- T5 se visita el Viernes\n",
            "- T3 se visita el Sábado\n",
            "- T1 se visita el Sábado\n"
          ]
        }
      ],
      "source": [
        "# Ejecutar\n",
        "mejor_solucion = algoritmo_genetico()\n",
        "print(\"\\n📦 Mejor planificación semanal encontrada:\")\n",
        "for tienda, dia in sorted(mejor_solucion, key=lambda x: DIAS_SEMANA.index(x[1])):\n",
        "    print(f\"- {tienda} se visita el {dia}\")"
      ]
    }
  ],
  "metadata": {
    "kernelspec": {
      "display_name": "Python 3",
      "language": "python",
      "name": "python3"
    },
    "language_info": {
      "name": "python"
    },
    "colab": {
      "provenance": [],
      "include_colab_link": true
    }
  },
  "nbformat": 4,
  "nbformat_minor": 0
}