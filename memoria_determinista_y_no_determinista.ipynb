{
  "nbformat": 4,
  "nbformat_minor": 0,
  "metadata": {
    "colab": {
      "provenance": [],
      "authorship_tag": "ABX9TyPbBYUm5cBlcMlo8/no2Hxe",
      "include_colab_link": true
    },
    "kernelspec": {
      "name": "python3",
      "display_name": "Python 3"
    },
    "language_info": {
      "name": "python"
    }
  },
  "cells": [
    {
      "cell_type": "markdown",
      "metadata": {
        "id": "view-in-github",
        "colab_type": "text"
      },
      "source": [
        "<a href=\"https://colab.research.google.com/github/yeho/scikit-learn-AI/blob/master/memoria_determinista_y_no_determinista.ipynb\" target=\"_parent\"><img src=\"https://colab.research.google.com/assets/colab-badge.svg\" alt=\"Open In Colab\"/></a>"
      ]
    },
    {
      "cell_type": "markdown",
      "source": [
        "**Memoria determinista** (scratchpad simulada)\n",
        "\n",
        "Cada acceso tarda un tiempo fijo."
      ],
      "metadata": {
        "id": "i5YYGy7em11S"
      }
    },
    {
      "cell_type": "code",
      "execution_count": 4,
      "metadata": {
        "colab": {
          "base_uri": "https://localhost:8080/"
        },
        "id": "RIXZ8NUPmejb",
        "outputId": "fc3b5f6e-d2fb-466b-d154-30cf7ce00c2b"
      },
      "outputs": [
        {
          "output_type": "stream",
          "name": "stdout",
          "text": [
            "Tiempo total acceso scratchpad (determinista): 0.01986855400002696 segundos\n"
          ]
        }
      ],
      "source": [
        "import time\n",
        "import numpy as np\n",
        "\n",
        "# Scratchpad (determinista) -> acceso constante\n",
        "N = 100000\n",
        "data = np.arange(N)\n",
        "start = time.perf_counter()\n",
        "\n",
        "for i in range(N):\n",
        "    _ = data[i]  # acceso directo y determinista\n",
        "\n",
        "end = time.perf_counter()\n",
        "print(\"Tiempo total acceso scratchpad (determinista):\", end - start, \"segundos\")"
      ]
    },
    {
      "cell_type": "markdown",
      "source": [
        "**Memoria no determinista** (caché simulada con misses aleatorios)\n",
        "\n",
        "Se simulan accesos donde un 10% resultan en cache miss y se añade un retardo extra."
      ],
      "metadata": {
        "id": "78x0ZAHYmpy8"
      }
    },
    {
      "cell_type": "code",
      "source": [
        "import time\n",
        "import numpy as np\n",
        "import random\n",
        "\n",
        "# Caché simulada con misses aleatorios\n",
        "N = 100000\n",
        "data = np.arange(N)\n",
        "start = time.perf_counter()\n",
        "\n",
        "for i in range(N):\n",
        "    _ = data[random.randint(0, N-1)]  # acceso aleatorio\n",
        "    if random.random() < 0.1:  # 10% cache miss\n",
        "        time.sleep(0.00001)    # retardo extra (simulación del miss)\n",
        "\n",
        "end = time.perf_counter()\n",
        "print(\"Tiempo total acceso cache (no determinista):\", end - start, \"segundos\")"
      ],
      "metadata": {
        "colab": {
          "base_uri": "https://localhost:8080/"
        },
        "id": "iDNm-pmcmmlN",
        "outputId": "479d445f-de7e-4654-eeb0-badc7c0e676a"
      },
      "execution_count": 5,
      "outputs": [
        {
          "output_type": "stream",
          "name": "stdout",
          "text": [
            "Tiempo total acceso cache (no determinista): 0.7962780510000016 segundos\n"
          ]
        }
      ]
    }
  ]
}