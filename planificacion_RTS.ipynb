{
  "nbformat": 4,
  "nbformat_minor": 0,
  "metadata": {
    "colab": {
      "provenance": [],
      "authorship_tag": "ABX9TyMXGX9PNTm77RM9wBmxtpus",
      "include_colab_link": true
    },
    "kernelspec": {
      "name": "python3",
      "display_name": "Python 3"
    },
    "language_info": {
      "name": "python"
    }
  },
  "cells": [
    {
      "cell_type": "markdown",
      "metadata": {
        "id": "view-in-github",
        "colab_type": "text"
      },
      "source": [
        "<a href=\"https://colab.research.google.com/github/yeho/scikit-learn-AI/blob/master/planificacion_RTS.ipynb\" target=\"_parent\"><img src=\"https://colab.research.google.com/assets/colab-badge.svg\" alt=\"Open In Colab\"/></a>"
      ]
    },
    {
      "cell_type": "markdown",
      "source": [
        "**Analisis de planificación en sistemas de tiempo real**\n",
        "<br>Autor: Yeho"
      ],
      "metadata": {
        "id": "1lVg77peitHf"
      }
    },
    {
      "cell_type": "code",
      "execution_count": 12,
      "metadata": {
        "colab": {
          "base_uri": "https://localhost:8080/",
          "height": 453
        },
        "id": "NWYEYQukfzQI",
        "outputId": "14cc4fa3-8668-4a02-a8c3-1ca0fda76f20"
      },
      "outputs": [
        {
          "output_type": "stream",
          "name": "stdout",
          "text": [
            "Utilización total: 0.75\n",
            "Límite Liu & Layland (n=3): 0.780\n",
            "Planificable bajo RMS\n",
            "\n",
            "--- Worst-Case Response Time (WCRT) ---\n",
            "WCRT T1: 1.0 ms (Deadline 4.0 ms)\n",
            "WCRT T2: 2.5 ms (Deadline 5.0 ms)\n",
            "WCRT T3: 7.0 ms (Deadline 10.0 ms)\n",
            "\n",
            "--- Planificabilidad bajo EDF ---\n",
            "Planificable bajo EDF\n"
          ]
        },
        {
          "output_type": "display_data",
          "data": {
            "text/plain": [
              "<Figure size 1200x200 with 1 Axes>"
            ],
            "image/png": "[encoded data removed]"
          },
          "metadata": {}
        }
      ],
      "source": [
        "import math\n",
        "import matplotlib.pyplot as plt\n",
        "\n",
        "# Definición de tareas\n",
        "tasks = [\n",
        "    {\"name\": \"T1\", \"C\": 1.0, \"T\": 4.0},\n",
        "    {\"name\": \"T2\", \"C\": 1.5, \"T\": 5.0},\n",
        "    {\"name\": \"T3\", \"C\": 2.0, \"T\": 10.0},\n",
        "]\n",
        "\n",
        "# a) Utilización total\n",
        "U = sum(t[\"C\"] / t[\"T\"] for t in tasks)\n",
        "print(f\"Utilización total: {U:.2f}\")\n",
        "\n",
        "# b) Límite de Liu & Layland\n",
        "n = len(tasks)\n",
        "U_ll = n * (2 ** (1/n) - 1)\n",
        "print(f\"Límite Liu & Layland (n={n}): {U_ll:.3f}\")\n",
        "print(\"Planificable bajo RMS\" if U <= U_ll else \"No planificable bajo RMS\")\n",
        "\n",
        "# c) Cálculo de WCRT\n",
        "def wcrt(task, higher_tasks):\n",
        "    R = task[\"C\"]\n",
        "    while True:\n",
        "        interference = sum(math.ceil(R / ht[\"T\"]) * ht[\"C\"] for ht in higher_tasks)\n",
        "        R_next = task[\"C\"] + interference\n",
        "        if R_next == R:\n",
        "            return R\n",
        "        if R_next > task[\"T\"]:\n",
        "            return math.inf # Indica que no es planificable\n",
        "        R = R_next\n",
        "\n",
        "print(\"\\n--- Worst-Case Response Time (WCRT) ---\")\n",
        "for i, t in enumerate(tasks):\n",
        "    R = wcrt(t, tasks[:i])\n",
        "    if R == math.inf:\n",
        "        print(f\"WCRT {t['name']}: No planificable (Deadline {t['T']} ms)\")\n",
        "    else:\n",
        "        print(f\"WCRT {t['name']}: {R:.1f} ms (Deadline {t['T']} ms)\")\n",
        "\n",
        "# d) EDF\n",
        "print(\"\\n--- Planificabilidad bajo EDF ---\")\n",
        "print(\"Planificable bajo EDF\" if U <= 1 else \"No planificable bajo EDF\")\n",
        "\n",
        "# Simulación RMS\n",
        "def lcm(a, b):\n",
        "    return abs(a*b) // math.gcd(int(a), int(b))\n",
        "\n",
        "H = int(lcm(lcm(int(tasks[0][\"T\"]), int(tasks[1][\"T\"])), int(tasks[2][\"T\"])))\n",
        "\n",
        "priorities = sorted(tasks, key=lambda x: x[\"T\"])  # RMS: menor periodo = mayor prioridad\n",
        "\n",
        "def simulate_rms(tasks):\n",
        "    timeline = []\n",
        "    ready = []\n",
        "    releases = {t[\"name\"]: 0 for t in tasks}\n",
        "    remaining = {t[\"name\"]: 0 for t in tasks}\n",
        "\n",
        "    for time in range(H):\n",
        "        # Liberar nuevas instancias\n",
        "        for t in tasks:\n",
        "            if time % t[\"T\"] == 0:\n",
        "                remaining[t[\"name\"]] += t[\"C\"]\n",
        "\n",
        "        # Selección de tarea lista más prioritaria\n",
        "        running = \"Idle\"\n",
        "        for t in priorities:\n",
        "            if remaining[t[\"name\"]] > 0:\n",
        "                running = t[\"name\"]\n",
        "                remaining[t[\"name\"]] -= 1\n",
        "                break\n",
        "\n",
        "        timeline.append(running)\n",
        "\n",
        "    return timeline\n",
        "\n",
        "# Gráfica tipo Gantt\n",
        "def plot_rms_timeline(tasks):\n",
        "    timeline = simulate_rms(tasks)\n",
        "    H = len(timeline)\n",
        "\n",
        "    fig, ax = plt.subplots(figsize=(12, 2))\n",
        "    colors = {\"T1\": \"tab:blue\", \"T2\": \"tab:orange\", \"T3\": \"tab:green\", \"Idle\": \"tab:gray\"}\n",
        "\n",
        "    for t, task in enumerate(timeline):\n",
        "        ax.broken_barh([(t, 1)], (0, 1), facecolors=colors[task])\n",
        "\n",
        "    ax.set_xlim(0, H)\n",
        "    ax.set_ylim(0, 1)\n",
        "    ax.set_xlabel(\"Tiempo (ms)\")\n",
        "    ax.set_yticks([])\n",
        "    ax.set_xticks(range(0, H+1, 2))\n",
        "    ax.set_title(\"Simulación RMS en un hiperperíodo\")\n",
        "\n",
        "    legend_patches = [plt.Line2D([0], [0], color=col, lw=6, label=tsk) for tsk, col in colors.items()]\n",
        "    ax.legend(handles=legend_patches, loc=\"upper right\")\n",
        "\n",
        "    plt.show()\n",
        "\n",
        "plot_rms_timeline(tasks)"
      ]
    }
  ]
}